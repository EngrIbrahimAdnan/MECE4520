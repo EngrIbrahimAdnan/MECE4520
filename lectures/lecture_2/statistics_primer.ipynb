{
 "cells": [
  {
   "cell_type": "code",
   "execution_count": 1,
   "id": "6e3c4d0e",
   "metadata": {},
   "outputs": [],
   "source": [
    "import matplotlib.pyplot as plt\n",
    "import numpy as np\n",
    "\n",
    "from scipy.stats import binom\n",
    "from scipy.stats import norm\n",
    "\n",
    "# set random seed\n",
    "np.random.seed(42)"
   ]
  },
  {
   "cell_type": "markdown",
   "id": "3eb087c2",
   "metadata": {},
   "source": [
    "# Descriptive statistics"
   ]
  },
  {
   "cell_type": "code",
   "execution_count": 2,
   "id": "fef5d316",
   "metadata": {},
   "outputs": [],
   "source": [
    "# generate a random sample\n",
    "X = np.random.normal(loc=1.0, scale=5.0, size=1000)"
   ]
  },
  {
   "cell_type": "code",
   "execution_count": 3,
   "id": "557899b5",
   "metadata": {},
   "outputs": [
    {
     "data": {
      "image/png": "[encoded data removed]",
      "text/plain": [
       "<Figure size 432x288 with 1 Axes>"
      ]
     },
     "metadata": {
      "needs_background": "light"
     },
     "output_type": "display_data"
    }
   ],
   "source": [
    "# make the histogram\n",
    "plt.hist(X, bins=50)\n",
    "plt.show()"
   ]
  },
  {
   "cell_type": "code",
   "execution_count": 4,
   "id": "8fa5dc6e",
   "metadata": {},
   "outputs": [
    {
     "data": {
      "image/png": "[encoded data removed]",
      "text/plain": [
       "<Figure size 432x288 with 1 Axes>"
      ]
     },
     "metadata": {
      "needs_background": "light"
     },
     "output_type": "display_data"
    }
   ],
   "source": [
    "# make the box-plot\n",
    "plt.boxplot(X)\n",
    "plt.show()"
   ]
  },
  {
   "cell_type": "code",
   "execution_count": 5,
   "id": "6ab79e49",
   "metadata": {},
   "outputs": [
    {
     "data": {
      "text/plain": [
       "1.0966602791116276"
      ]
     },
     "execution_count": 5,
     "metadata": {},
     "output_type": "execute_result"
    }
   ],
   "source": [
    "# mean\n",
    "x_mean = np.mean(X)\n",
    "x_mean"
   ]
  },
  {
   "cell_type": "code",
   "execution_count": 6,
   "id": "879691f8",
   "metadata": {},
   "outputs": [
    {
     "data": {
      "text/plain": [
       "1.1265030611744413"
      ]
     },
     "execution_count": 6,
     "metadata": {},
     "output_type": "execute_result"
    }
   ],
   "source": [
    "# median\n",
    "x_median = np.median(X)\n",
    "x_median"
   ]
  },
  {
   "cell_type": "code",
   "execution_count": 7,
   "id": "15b235c2",
   "metadata": {},
   "outputs": [
    {
     "data": {
      "text/plain": [
       "-2.2379515273117585"
      ]
     },
     "execution_count": 7,
     "metadata": {},
     "output_type": "execute_result"
    }
   ],
   "source": [
    "# quantile\n",
    "x_25th_quantile = np.quantile(X, q=0.25)\n",
    "x_25th_quantile"
   ]
  },
  {
   "cell_type": "code",
   "execution_count": 8,
   "id": "c842432c",
   "metadata": {},
   "outputs": [
    {
     "data": {
      "text/plain": [
       "1.1265030611744413"
      ]
     },
     "execution_count": 8,
     "metadata": {},
     "output_type": "execute_result"
    }
   ],
   "source": [
    "x_50th_quantile = np.quantile(X, q=0.5)\n",
    "x_50th_quantile"
   ]
  },
  {
   "cell_type": "code",
   "execution_count": 9,
   "id": "5f13a97b",
   "metadata": {},
   "outputs": [
    {
     "data": {
      "text/plain": [
       "23.97159633962756"
      ]
     },
     "execution_count": 9,
     "metadata": {},
     "output_type": "execute_result"
    }
   ],
   "source": [
    "# sample variance\n",
    "x_var = np.var(X, ddof=1)\n",
    "x_var"
   ]
  },
  {
   "cell_type": "code",
   "execution_count": 10,
   "id": "e908aeb5",
   "metadata": {},
   "outputs": [
    {
     "data": {
      "text/plain": [
       "4.896079690898378"
      ]
     },
     "execution_count": 10,
     "metadata": {},
     "output_type": "execute_result"
    }
   ],
   "source": [
    "# standard deviation\n",
    "np.sqrt(x_var)"
   ]
  },
  {
   "cell_type": "code",
   "execution_count": 11,
   "id": "6a9c5e0c",
   "metadata": {},
   "outputs": [
    {
     "data": {
      "text/plain": [
       "4.896079690898378"
      ]
     },
     "execution_count": 11,
     "metadata": {},
     "output_type": "execute_result"
    }
   ],
   "source": [
    "np.std(X, ddof=1)"
   ]
  },
  {
   "cell_type": "markdown",
   "id": "02a1a326",
   "metadata": {},
   "source": [
    "## Central Limit Theorem"
   ]
  },
  {
   "cell_type": "code",
   "execution_count": 12,
   "id": "ed10ac18",
   "metadata": {},
   "outputs": [],
   "source": [
    "n_trials = 1000\n",
    "n_samples = 100"
   ]
  },
  {
   "cell_type": "code",
   "execution_count": 13,
   "id": "fb89a7b3",
   "metadata": {},
   "outputs": [
    {
     "name": "stdout",
     "output_type": "stream",
     "text": [
      "The mean of sample means is: 1.001.\n",
      "The standard deviation of sample means is: 0.104.\n"
     ]
    },
    {
     "data": {
      "image/png": "[encoded data removed]",
      "text/plain": [
       "<Figure size 432x288 with 1 Axes>"
      ]
     },
     "metadata": {
      "needs_background": "light"
     },
     "output_type": "display_data"
    }
   ],
   "source": [
    "# normal distribution\n",
    "sample_means = []\n",
    "for _ in range(n_trials):\n",
    "    X = np.random.normal(loc=1.0, scale=1.0, size=n_samples)\n",
    "    sample_means.append(np.mean(X))\n",
    "\n",
    "print(f\"The mean of sample means is: {np.mean(sample_means):5.3f}.\")\n",
    "print(f\"The standard deviation of sample means is: {np.std(sample_means):5.3f}.\")\n",
    "plt.hist(sample_means, bins=20)\n",
    "plt.show()"
   ]
  },
  {
   "cell_type": "code",
   "execution_count": 14,
   "id": "cd1bf295",
   "metadata": {},
   "outputs": [
    {
     "name": "stdout",
     "output_type": "stream",
     "text": [
      "The mean of sample means is: 0.597.\n",
      "The standard deviation of sample means is: 0.049.\n"
     ]
    },
    {
     "data": {
      "image/png": "[encoded data removed]",
      "text/plain": [
       "<Figure size 432x288 with 1 Axes>"
      ]
     },
     "metadata": {
      "needs_background": "light"
     },
     "output_type": "display_data"
    }
   ],
   "source": [
    "# bernoulli distribution\n",
    "sample_means = []\n",
    "p = 0.6\n",
    "for _ in range(n_trials):\n",
    "    X = np.random.random(size=n_samples)\n",
    "    X = [1 if x < p else 0 for x in X]\n",
    "    sample_means.append(np.mean(X))\n",
    "\n",
    "print(f\"The mean of sample means is: {np.mean(sample_means):5.3f}.\")\n",
    "print(f\"The standard deviation of sample means is: {np.std(sample_means):5.3f}.\")\n",
    "plt.hist(sample_means, bins=20)\n",
    "plt.show()"
   ]
  },
  {
   "cell_type": "code",
   "execution_count": 15,
   "id": "ef685d27",
   "metadata": {},
   "outputs": [
    {
     "name": "stdout",
     "output_type": "stream",
     "text": [
      "The mean of sample means is: 5.999.\n",
      "The standard deviation of sample means is: 0.157.\n"
     ]
    },
    {
     "data": {
      "image/png": "[encoded data removed]",
      "text/plain": [
       "<Figure size 432x288 with 1 Axes>"
      ]
     },
     "metadata": {
      "needs_background": "light"
     },
     "output_type": "display_data"
    }
   ],
   "source": [
    "# binomial distribtuion\n",
    "sample_means = []\n",
    "for _ in range(n_trials):\n",
    "    X = np.random.binomial(n=10, p=0.6, size=n_samples)\n",
    "    sample_means.append(np.mean(X))\n",
    "\n",
    "print(f\"The mean of sample means is: {np.mean(sample_means):5.3f}.\")\n",
    "print(f\"The standard deviation of sample means is: {np.std(sample_means):5.3f}.\")\n",
    "plt.hist(sample_means, bins=20)\n",
    "plt.show()"
   ]
  },
  {
   "cell_type": "code",
   "execution_count": 16,
   "id": "324576cd",
   "metadata": {},
   "outputs": [
    {
     "name": "stdout",
     "output_type": "stream",
     "text": [
      "The mean of sample means is: 1.665.\n",
      "The standard deviation of sample means is: 0.107.\n"
     ]
    },
    {
     "data": {
      "image/png": "[encoded data removed]",
      "text/plain": [
       "<Figure size 432x288 with 1 Axes>"
      ]
     },
     "metadata": {
      "needs_background": "light"
     },
     "output_type": "display_data"
    }
   ],
   "source": [
    "# geometric distribution\n",
    "sample_means = []\n",
    "for _ in range(n_trials):\n",
    "    X = np.random.geometric(p=0.6, size=n_samples)\n",
    "    sample_means.append(np.mean(X))\n",
    "\n",
    "print(f\"The mean of sample means is: {np.mean(sample_means):5.3f}.\")\n",
    "print(f\"The standard deviation of sample means is: {np.std(sample_means):5.3f}.\")\n",
    "plt.hist(sample_means, bins=20)\n",
    "plt.show()"
   ]
  },
  {
   "cell_type": "markdown",
   "id": "0a506b1d",
   "metadata": {},
   "source": [
    "## Point estimation and confidence interval"
   ]
  },
  {
   "cell_type": "code",
   "execution_count": 17,
   "id": "e9d4992f",
   "metadata": {},
   "outputs": [
    {
     "data": {
      "image/png": "[encoded data removed]",
      "text/plain": [
       "<Figure size 1080x648 with 1 Axes>"
      ]
     },
     "metadata": {
      "needs_background": "light"
     },
     "output_type": "display_data"
    }
   ],
   "source": [
    "np.random.seed(42)\n",
    "\n",
    "n_trials = 100\n",
    "n_samples = 100\n",
    "mu = 0\n",
    "sigma = 1\n",
    "\n",
    "results = []\n",
    "for i, _ in enumerate(range(n_trials)):\n",
    "    X = np.random.normal(loc=mu, scale=sigma**0.5, size=n_samples)\n",
    "    lower_bound = np.mean(X) - 1.96 * np.std(X, ddof=1) / np.sqrt(n_samples)\n",
    "    upper_bound = np.mean(X) + 1.96 * np.std(X, ddof=1) / np.sqrt(n_samples)\n",
    "    \n",
    "    results.append((i, lower_bound, upper_bound))\n",
    "    \n",
    "plt.figure(figsize=(15, 9))\n",
    "for i, lower, upper in results:\n",
    "    plt.plot([lower, upper], [i] * 2, color=\"blue\", alpha=0.2)\n",
    "plt.plot([mu] * len(results), list(range(len(results))))\n",
    "plt.show()"
   ]
  },
  {
   "cell_type": "markdown",
   "id": "025cf4a0",
   "metadata": {},
   "source": [
    "## Hypothesis test"
   ]
  },
  {
   "cell_type": "code",
   "execution_count": 18,
   "id": "f40f114e",
   "metadata": {},
   "outputs": [
    {
     "name": "stdout",
     "output_type": "stream",
     "text": [
      "The probability of getting 0 head(s) is: 0.001\n",
      "The probability of getting 1 head(s) is: 0.010\n",
      "The probability of getting 2 head(s) is: 0.044\n",
      "The probability of getting 3 head(s) is: 0.117\n",
      "The probability of getting 4 head(s) is: 0.205\n",
      "The probability of getting 5 head(s) is: 0.246\n",
      "The probability of getting 6 head(s) is: 0.205\n",
      "The probability of getting 7 head(s) is: 0.117\n",
      "The probability of getting 8 head(s) is: 0.044\n",
      "The probability of getting 9 head(s) is: 0.010\n",
      "The probability of getting 10 head(s) is: 0.001\n"
     ]
    }
   ],
   "source": [
    "# fair coin, binomial test\n",
    "n = 10\n",
    "p = 0.5\n",
    "for k in range(11):\n",
    "    proba = binom.pmf(k=k, n=n, p=p)\n",
    "    print(f\"The probability of getting {k} head(s) is: {proba:5.3f}\")"
   ]
  },
  {
   "cell_type": "code",
   "execution_count": 23,
   "id": "fd6eb54b",
   "metadata": {},
   "outputs": [
    {
     "name": "stdout",
     "output_type": "stream",
     "text": [
      "The critial value is 107.802.\n",
      "The power of the test is 0.678.\n"
     ]
    },
    {
     "data": {
      "image/png": "[encoded data removed]",
      "text/plain": [
       "<Figure size 432x288 with 1 Axes>"
      ]
     },
     "metadata": {
      "needs_background": "light"
     },
     "output_type": "display_data"
    }
   ],
   "source": [
    "# IQ example\n",
    "n = 10\n",
    "mu_0 = 100\n",
    "mu_a = 110\n",
    "sigma = 15\n",
    "alpha = 0.05  # Type I error rate\n",
    "\n",
    "\n",
    "x_range = np.arange(75, 125, 0.001)\n",
    "plt.plot(\n",
    "    x_range, \n",
    "    norm.pdf(x_range, loc=mu_0, scale=np.sqrt(sigma**2 / n)),\n",
    "    color=\"blue\",\n",
    "    label=\"H_0\"\n",
    ")\n",
    "\n",
    "plt.plot(\n",
    "    x_range, \n",
    "    norm.pdf(x_range, loc=mu_a, scale=np.sqrt(sigma**2 / n)),\n",
    "    color=\"red\",\n",
    "    label=\"H_a\"\n",
    ")\n",
    "\n",
    "# find the rejection region\n",
    "x_critical = norm.ppf(q=(1 - alpha), loc=mu_0, scale=np.sqrt(sigma**2 / n))\n",
    "power = norm.sf(x=x_critical, loc=mu_a, scale=np.sqrt(sigma**2 / n))\n",
    "\n",
    "print(f\"The critial value is {x_critical:5.3f}.\")\n",
    "print(f\"The power of the test is {power:5.3f}.\")\n",
    "plt.axvline(x=x_critical, color=\"black\")\n",
    "\n",
    "plt.axhline(y=0, color=\"black\")\n",
    "plt.legend()\n",
    "plt.show()"
   ]
  },
  {
   "cell_type": "code",
   "execution_count": 20,
   "id": "ef06efbf",
   "metadata": {},
   "outputs": [
    {
     "data": {
      "text/plain": [
       "0.017507490509831244"
      ]
     },
     "execution_count": 20,
     "metadata": {},
     "output_type": "execute_result"
    }
   ],
   "source": [
    "# Get the p-value\n",
    "norm.sf(x=110, loc=mu_0, scale=np.sqrt(sigma / n))"
   ]
  },
  {
   "cell_type": "code",
   "execution_count": 36,
   "id": "177e81e4",
   "metadata": {},
   "outputs": [
    {
     "name": "stdout",
     "output_type": "stream",
     "text": [
      "The critial value is 1.960.\n",
      "The power of the test is 0.738.\n"
     ]
    },
    {
     "data": {
      "image/png": "[encoded data removed]",
      "text/plain": [
       "<Figure size 432x288 with 1 Axes>"
      ]
     },
     "metadata": {
      "needs_background": "light"
     },
     "output_type": "display_data"
    }
   ],
   "source": [
    "# 2-sample test\n",
    "x_mean = 100\n",
    "y_mean = 105\n",
    "s_x = 10\n",
    "s_y = 10\n",
    "n_x = 150\n",
    "n_y = 150\n",
    "\n",
    "delta = 3\n",
    "alpha = 0.05\n",
    "\n",
    "s_pool = np.sqrt(s_x**2 / n_x + s_y**2 / n_y)\n",
    "\n",
    "z_range = np.arange(-5, 5, 0.001)\n",
    "plt.plot(\n",
    "    z_range, \n",
    "    norm.pdf(z_range, loc=0, scale=1),\n",
    "    color=\"blue\",\n",
    "    label=\"H_0\"\n",
    ")\n",
    "\n",
    "plt.plot(\n",
    "    z_range, \n",
    "    norm.pdf(z_range, loc=(delta / s_pool), scale=1),\n",
    "    color=\"red\",\n",
    "    label=\"H_a\"\n",
    ")\n",
    "\n",
    "# use q=(1 - alpha) for one-sided test\n",
    "z_critical = norm.ppf(q=(1 - alpha / 2))\n",
    "power = norm.sf(x=z_critical, loc=(delta / s_pool), scale=1)\n",
    "\n",
    "print(f\"The critial value is {z_critical:5.3f}.\")\n",
    "print(f\"The power of the test is {power:5.3f}.\")\n",
    "plt.axvline(x=z_critical, color=\"black\")\n",
    "plt.axvline(x=0, color=\"blue\", linestyle=\"--\")\n",
    "plt.axvline(x=(delta / s_pool), color=\"red\", linestyle=\"--\")\n",
    "\n",
    "plt.axhline(y=0, color=\"black\")\n",
    "plt.legend()\n",
    "plt.show()"
   ]
  },
  {
   "cell_type": "code",
   "execution_count": null,
   "id": "2bc8c33a",
   "metadata": {},
   "outputs": [],
   "source": []
  }
 ],
 "metadata": {
  "kernelspec": {
   "display_name": "Python 3 (ipykernel)",
   "language": "python",
   "name": "python3"
  },
  "language_info": {
   "codemirror_mode": {
    "name": "ipython",
    "version": 3
   },
   "file_extension": ".py",
   "mimetype": "text/x-python",
   "name": "python",
   "nbconvert_exporter": "python",
   "pygments_lexer": "ipython3",
   "version": "3.7.11"
  }
 },
 "nbformat": 4,
 "nbformat_minor": 5
}
