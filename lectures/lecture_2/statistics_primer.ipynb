{
 "cells": [
  {
   "cell_type": "code",
   "execution_count": 12,
   "id": "3cdfd567",
   "metadata": {},
   "outputs": [],
   "source": [
    "import matplotlib.pyplot as plt\n",
    "import numpy as np"
   ]
  },
  {
   "cell_type": "markdown",
   "id": "884e0fe2",
   "metadata": {},
   "source": [
    "# Descriptive statistics"
   ]
  },
  {
   "cell_type": "code",
   "execution_count": 14,
   "id": "dc306c11",
   "metadata": {},
   "outputs": [],
   "source": [
    "# generate a random sample\n",
    "X = np.random.normal(loc=1.0, scale=5.0, size=1000)"
   ]
  },
  {
   "cell_type": "code",
   "execution_count": 16,
   "id": "442f65db",
   "metadata": {},
   "outputs": [
    {
     "data": {
      "image/png": "[encoded data removed]",
      "text/plain": [
       "<Figure size 432x288 with 1 Axes>"
      ]
     },
     "metadata": {
      "needs_background": "light"
     },
     "output_type": "display_data"
    }
   ],
   "source": [
    "# plot the histogram\n",
    "plt.hist(X, bins=50)\n",
    "plt.show()"
   ]
  },
  {
   "cell_type": "code",
   "execution_count": 3,
   "id": "96c0ebdb",
   "metadata": {},
   "outputs": [
    {
     "data": {
      "text/plain": [
       "0.8891705000556547"
      ]
     },
     "execution_count": 3,
     "metadata": {},
     "output_type": "execute_result"
    }
   ],
   "source": [
    "# mean\n",
    "x_mean = np.mean(X)\n",
    "x_mean"
   ]
  },
  {
   "cell_type": "code",
   "execution_count": 4,
   "id": "111e5209",
   "metadata": {},
   "outputs": [
    {
     "data": {
      "text/plain": [
       "1.144985877812005"
      ]
     },
     "execution_count": 4,
     "metadata": {},
     "output_type": "execute_result"
    }
   ],
   "source": [
    "# median\n",
    "x_median = np.median(X)\n",
    "x_median"
   ]
  },
  {
   "cell_type": "code",
   "execution_count": 10,
   "id": "e9fe754a",
   "metadata": {},
   "outputs": [
    {
     "data": {
      "text/plain": [
       "-2.5561532996939014"
      ]
     },
     "execution_count": 10,
     "metadata": {},
     "output_type": "execute_result"
    }
   ],
   "source": [
    "# quantile\n",
    "x_25th_quantile = np.quantile(X, q=0.25)\n",
    "x_25th_quantile"
   ]
  },
  {
   "cell_type": "code",
   "execution_count": 11,
   "id": "c0dd8e2b",
   "metadata": {},
   "outputs": [
    {
     "data": {
      "text/plain": [
       "1.144985877812005"
      ]
     },
     "execution_count": 11,
     "metadata": {},
     "output_type": "execute_result"
    }
   ],
   "source": [
    "x_50th_quantile = np.quantile(X, q=0.5)\n",
    "x_50th_quantile"
   ]
  },
  {
   "cell_type": "code",
   "execution_count": 5,
   "id": "614f6ea8",
   "metadata": {},
   "outputs": [
    {
     "data": {
      "text/plain": [
       "24.319252111480537"
      ]
     },
     "execution_count": 5,
     "metadata": {},
     "output_type": "execute_result"
    }
   ],
   "source": [
    "# sample variance\n",
    "x_var = np.var(X, ddof=1)\n",
    "x_var"
   ]
  },
  {
   "cell_type": "code",
   "execution_count": 6,
   "id": "946aca7d",
   "metadata": {},
   "outputs": [
    {
     "data": {
      "text/plain": [
       "4.931455374580666"
      ]
     },
     "execution_count": 6,
     "metadata": {},
     "output_type": "execute_result"
    }
   ],
   "source": [
    "# standard deviation\n",
    "np.sqrt(x_var)"
   ]
  },
  {
   "cell_type": "code",
   "execution_count": 9,
   "id": "9d471f79",
   "metadata": {},
   "outputs": [
    {
     "data": {
      "text/plain": [
       "4.931455374580666"
      ]
     },
     "execution_count": 9,
     "metadata": {},
     "output_type": "execute_result"
    }
   ],
   "source": [
    "np.std(X, ddof=1)"
   ]
  },
  {
   "cell_type": "code",
   "execution_count": null,
   "id": "2b5a9fce",
   "metadata": {},
   "outputs": [],
   "source": []
  }
 ],
 "metadata": {
  "kernelspec": {
   "display_name": "Python 3 (ipykernel)",
   "language": "python",
   "name": "python3"
  },
  "language_info": {
   "codemirror_mode": {
    "name": "ipython",
    "version": 3
   },
   "file_extension": ".py",
   "mimetype": "text/x-python",
   "name": "python",
   "nbconvert_exporter": "python",
   "pygments_lexer": "ipython3",
   "version": "3.7.11"
  }
 },
 "nbformat": 4,
 "nbformat_minor": 5
}
