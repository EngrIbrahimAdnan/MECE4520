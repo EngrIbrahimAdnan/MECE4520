{
 "cells": [
  {
   "cell_type": "code",
   "execution_count": null,
   "id": "6e3c4d0e",
   "metadata": {},
   "outputs": [],
   "source": [
    "import matplotlib.pyplot as plt\n",
    "import numpy as np"
   ]
  },
  {
   "cell_type": "markdown",
   "id": "3eb087c2",
   "metadata": {},
   "source": [
    "# Descriptive statistics"
   ]
  },
  {
   "cell_type": "code",
   "execution_count": null,
   "id": "fef5d316",
   "metadata": {},
   "outputs": [],
   "source": [
    "# generate a random sample\n",
    "X = np.random.normal(loc=1.0, scale=5.0, size=1000)"
   ]
  },
  {
   "cell_type": "code",
   "execution_count": null,
   "id": "557899b5",
   "metadata": {},
   "outputs": [],
   "source": [
    "# plot the histogram\n",
    "plt.hist(X, bins=50)\n",
    "plt.show()"
   ]
  },
  {
   "cell_type": "code",
   "execution_count": null,
   "id": "6ab79e49",
   "metadata": {},
   "outputs": [],
   "source": [
    "# mean\n",
    "x_mean = np.mean(X)\n",
    "x_mean"
   ]
  },
  {
   "cell_type": "code",
   "execution_count": null,
   "id": "879691f8",
   "metadata": {},
   "outputs": [],
   "source": [
    "# median\n",
    "x_median = np.median(X)\n",
    "x_median"
   ]
  },
  {
   "cell_type": "code",
   "execution_count": null,
   "id": "15b235c2",
   "metadata": {},
   "outputs": [],
   "source": [
    "# quantile\n",
    "x_25th_quantile = np.quantile(X, q=0.25)\n",
    "x_25th_quantile"
   ]
  },
  {
   "cell_type": "code",
   "execution_count": null,
   "id": "c842432c",
   "metadata": {},
   "outputs": [],
   "source": [
    "x_50th_quantile = np.quantile(X, q=0.5)\n",
    "x_50th_quantile"
   ]
  },
  {
   "cell_type": "code",
   "execution_count": null,
   "id": "5f13a97b",
   "metadata": {},
   "outputs": [],
   "source": [
    "# sample variance\n",
    "x_var = np.var(X, ddof=1)\n",
    "x_var"
   ]
  },
  {
   "cell_type": "code",
   "execution_count": null,
   "id": "e908aeb5",
   "metadata": {},
   "outputs": [],
   "source": [
    "# standard deviation\n",
    "np.sqrt(x_var)"
   ]
  },
  {
   "cell_type": "code",
   "execution_count": null,
   "id": "6a9c5e0c",
   "metadata": {},
   "outputs": [],
   "source": [
    "np.std(X, ddof=1)"
   ]
  },
  {
   "cell_type": "code",
   "execution_count": null,
   "id": "4dff2bd7",
   "metadata": {},
   "outputs": [],
   "source": []
  }
 ],
 "metadata": {
  "kernelspec": {
   "display_name": "Python 3 (ipykernel)",
   "language": "python",
   "name": "python3"
  },
  "language_info": {
   "codemirror_mode": {
    "name": "ipython",
    "version": 3
   },
   "file_extension": ".py",
   "mimetype": "text/x-python",
   "name": "python",
   "nbconvert_exporter": "python",
   "pygments_lexer": "ipython3",
   "version": "3.7.11"
  }
 },
 "nbformat": 4,
 "nbformat_minor": 5
}
