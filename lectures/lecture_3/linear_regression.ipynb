{
 "cells": [
  {
   "cell_type": "code",
   "execution_count": null,
   "id": "67eecfcc",
   "metadata": {},
   "outputs": [],
   "source": [
    "%matplotlib notebook\n",
    "\n",
    "import matplotlib.pyplot as plt\n",
    "import numpy as np\n",
    "import pandas as pd\n",
    "import seaborn as sns\n",
    "import statsmodels.formula.api as smf\n",
    "\n",
    "sns.set(font_scale=1.5)\n",
    "sns.set_style(\"whitegrid\", {'grid.linestyle':'--'})"
   ]
  },
  {
   "cell_type": "code",
   "execution_count": null,
   "id": "653c3aa5",
   "metadata": {},
   "outputs": [],
   "source": [
    "data = pd.read_csv(\"./auto_mpg.csv\")\n",
    "data.head()"
   ]
  },
  {
   "cell_type": "markdown",
   "id": "a85cc3b7",
   "metadata": {},
   "source": [
    "## Exploratory Data Analysis (EDA)"
   ]
  },
  {
   "cell_type": "code",
   "execution_count": null,
   "id": "f8e9a2cf",
   "metadata": {},
   "outputs": [],
   "source": [
    "# distribution of the dependent variable\n",
    "sns.histplot(x=\"mpg\", data=data)\n",
    "plt.tight_layout()"
   ]
  },
  {
   "cell_type": "code",
   "execution_count": null,
   "id": "a62ac8c5",
   "metadata": {},
   "outputs": [],
   "source": [
    "continuous_variables = [\n",
    "    \"displacement\",\n",
    "    \"horsepower\",\n",
    "    \"weight\",\n",
    "    \"acceleration\",\n",
    "]\n",
    "\n",
    "for variable in continuous_variables:\n",
    "    plt.figure()\n",
    "    sns.scatterplot(x=variable, y=\"mpg\", data=data)\n",
    "    plt.tight_layout()"
   ]
  },
  {
   "cell_type": "markdown",
   "id": "40c7a8df",
   "metadata": {},
   "source": [
    "## Simple linear regression"
   ]
  },
  {
   "cell_type": "code",
   "execution_count": null,
   "id": "f468e251",
   "metadata": {},
   "outputs": [],
   "source": [
    "y = data[\"mpg\"]\n",
    "x = data[\"weight\"]\n",
    "\n",
    "# calculating the coefficients\n",
    "beta_1 = np.cov(x, y)[0][1] / np.cov(x, x)[0][1]\n",
    "beta_0 = np.mean(y) - beta_1 * np.mean(x)\n",
    "\n",
    "# calculate R^2\n",
    "y_pred = beta_0 + beta_1 * x\n",
    "SST = np.sum(np.square(y - np.mean(y)))\n",
    "SSE = np.sum(np.square(y - y_pred))\n",
    "r2 = 1 - SSE / SST\n",
    "\n",
    "print(f\"beta_0 is: {beta_0:5.3f}\")\n",
    "print(f\"beta_1 is: {beta_1:5.3f}\")\n",
    "print(f\"R-square is: {r2:5.3f}\")\n",
    "\n",
    "plt.figure()\n",
    "x_range = np.linspace(start=np.min(x), stop=np.max(x), num=100)\n",
    "sns.scatterplot(x=\"weight\", y=\"mpg\", data=data)\n",
    "sns.lineplot(x=x_range, y=(beta_0 + beta_1 * x_range), color=\"red\")\n",
    "plt.tight_layout()"
   ]
  },
  {
   "cell_type": "code",
   "execution_count": null,
   "id": "1c6959d3",
   "metadata": {},
   "outputs": [],
   "source": [
    "model = smf.ols(formula='mpg ~ weight', data=data)\n",
    "result = model.fit()\n",
    "print(result.summary())"
   ]
  },
  {
   "cell_type": "code",
   "execution_count": null,
   "id": "fab8b8d6",
   "metadata": {},
   "outputs": [],
   "source": []
  }
 ],
 "metadata": {
  "kernelspec": {
   "display_name": "Python 3 (ipykernel)",
   "language": "python",
   "name": "python3"
  },
  "language_info": {
   "codemirror_mode": {
    "name": "ipython",
    "version": 3
   },
   "file_extension": ".py",
   "mimetype": "text/x-python",
   "name": "python",
   "nbconvert_exporter": "python",
   "pygments_lexer": "ipython3",
   "version": "3.7.11"
  }
 },
 "nbformat": 4,
 "nbformat_minor": 5
}
