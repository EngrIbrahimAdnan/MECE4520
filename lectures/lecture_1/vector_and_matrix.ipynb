{
 "cells": [
  {
   "cell_type": "code",
   "execution_count": null,
   "id": "5e45dabc",
   "metadata": {},
   "outputs": [],
   "source": [
    "from typing import List\n",
    "from typing import Union\n",
    "\n",
    "import numpy as np\n",
    "from IPython.display import display\n",
    "from matplotlib import pyplot as plt\n",
    "from PIL import Image\n",
    "from urllib.request import urlopen\n",
    "from scipy.spatial import distance"
   ]
  },
  {
   "cell_type": "markdown",
   "id": "875e5d5f",
   "metadata": {},
   "source": [
    "## Vector"
   ]
  },
  {
   "cell_type": "code",
   "execution_count": null,
   "id": "9478bbd9",
   "metadata": {},
   "outputs": [],
   "source": [
    "u = np.array([1, 2, 3])\n",
    "print(u.shape)"
   ]
  },
  {
   "cell_type": "code",
   "execution_count": null,
   "id": "35d0bd4c",
   "metadata": {},
   "outputs": [],
   "source": [
    "# Norms\n",
    "def norm(\n",
    "    vector: Union[List[float], np.ndarray], \n",
    "    order: int = 2) -> float:\n",
    "    \"\"\"Calculate the L-order norm.\"\"\"\n",
    "    value = (sum([abs(x)**order for x in vector]))**(1 / order)\n",
    "    return value"
   ]
  },
  {
   "cell_type": "code",
   "execution_count": null,
   "id": "2eb48074",
   "metadata": {},
   "outputs": [],
   "source": [
    "for order in range(1, 4):\n",
    "    print(f\"The L-{order} norm is:                     {norm(vector=u, order=order)}\")\n",
    "    print(f\"The L-{order} norm calculated by numpy is: {np.linalg.norm(x=u, ord=order)}\\n\")"
   ]
  },
  {
   "cell_type": "code",
   "execution_count": null,
   "id": "0288a985",
   "metadata": {},
   "outputs": [],
   "source": [
    "# Dot product\n",
    "def dot_product(\n",
    "    u: Union[List[float], np.ndarray],\n",
    "    v: Union[List[float], np.ndarray]) -> float:\n",
    "    \"\"\"Calcuate the dot- (inner-) product between two vectors.\"\"\"\n",
    "    value = sum([x * y for x, y in zip(u, v)])\n",
    "    return value"
   ]
  },
  {
   "cell_type": "code",
   "execution_count": null,
   "id": "285bcd5a",
   "metadata": {},
   "outputs": [],
   "source": [
    "v = np.array([4, 5, 6])\n",
    "\n",
    "print(dot_product(u, v))\n",
    "print(np.dot(u, v))\n",
    "print(u @ v.T)"
   ]
  },
  {
   "cell_type": "code",
   "execution_count": null,
   "id": "d46de862",
   "metadata": {},
   "outputs": [],
   "source": [
    "# Distance\n",
    "print(u - v)\n",
    "print(norm(u - v))\n",
    "print(distance.euclidean(u, v))"
   ]
  },
  {
   "cell_type": "code",
   "execution_count": null,
   "id": "0c32f1c0",
   "metadata": {},
   "outputs": [],
   "source": [
    "def cosine_distance(\n",
    "    u: Union[List[float], np.ndarray],\n",
    "    v: Union[List[float], np.ndarray]) -> float:\n",
    "    \"\"\"Calculate the cosine distance between two vectors.\"\"\"\n",
    "    value = dot_product(u, v) / (norm(u) * norm(v))\n",
    "    return 1 - value\n",
    "\n",
    "print(cosine_distance(u, v))\n",
    "print(distance.cosine(u, v))"
   ]
  },
  {
   "cell_type": "markdown",
   "id": "6cdce845",
   "metadata": {},
   "source": [
    "## Matrix"
   ]
  },
  {
   "cell_type": "code",
   "execution_count": null,
   "id": "b224d040",
   "metadata": {},
   "outputs": [],
   "source": [
    "A = np.array([\n",
    "  [1, 2],\n",
    "  [3, 4],  \n",
    "])\n",
    "print(A.shape)"
   ]
  },
  {
   "cell_type": "code",
   "execution_count": null,
   "id": "e2376094",
   "metadata": {},
   "outputs": [],
   "source": [
    "B = np.array([\n",
    "  [5, 6],\n",
    "  [7, 8],  \n",
    "])\n",
    "\n",
    "A + B"
   ]
  },
  {
   "cell_type": "code",
   "execution_count": null,
   "id": "169bea10",
   "metadata": {},
   "outputs": [],
   "source": [
    "A + 3"
   ]
  },
  {
   "cell_type": "code",
   "execution_count": null,
   "id": "62ab968f",
   "metadata": {},
   "outputs": [],
   "source": [
    "A * 3"
   ]
  },
  {
   "cell_type": "code",
   "execution_count": null,
   "id": "165d3f18",
   "metadata": {},
   "outputs": [],
   "source": [
    "# multiplication\n",
    "A = np.array([\n",
    "    [1, 2],\n",
    "    [3, 4],\n",
    "    [5, 6],\n",
    "    [7, 8],\n",
    "])\n",
    "B = np.array([\n",
    "    [1, 2, 3],\n",
    "    [4, 5, 6],\n",
    "])\n",
    "print(A.shape, B.shape)"
   ]
  },
  {
   "cell_type": "code",
   "execution_count": null,
   "id": "3d9a70c7",
   "metadata": {},
   "outputs": [],
   "source": [
    "np.matmul(A, B)"
   ]
  },
  {
   "cell_type": "code",
   "execution_count": null,
   "id": "65df1187",
   "metadata": {},
   "outputs": [],
   "source": [
    "A @ B"
   ]
  },
  {
   "cell_type": "code",
   "execution_count": null,
   "id": "2e1b6a42",
   "metadata": {},
   "outputs": [],
   "source": [
    "# Transpose\n",
    "print(A)\n",
    "print(A.T)"
   ]
  },
  {
   "cell_type": "code",
   "execution_count": null,
   "id": "529e878b",
   "metadata": {},
   "outputs": [],
   "source": [
    "# trace\n",
    "print(np.trace(A @ A.T))\n",
    "print(np.trace(A.T @ A))"
   ]
  },
  {
   "cell_type": "code",
   "execution_count": null,
   "id": "929c4030",
   "metadata": {},
   "outputs": [],
   "source": [
    "# determinant\n",
    "print(np.linalg.det(A @ A.T))\n",
    "print(np.linalg.det(A.T @ A))"
   ]
  },
  {
   "cell_type": "code",
   "execution_count": null,
   "id": "dde6f026",
   "metadata": {},
   "outputs": [],
   "source": [
    "# identity matrix\n",
    "I = np.eye(3)\n",
    "print(I)"
   ]
  },
  {
   "cell_type": "code",
   "execution_count": null,
   "id": "4568c0cf",
   "metadata": {},
   "outputs": [],
   "source": [
    "# inverse\n",
    "X = A.T @ A\n",
    "print(X)\n",
    "np.linalg.inv(X)"
   ]
  },
  {
   "cell_type": "code",
   "execution_count": null,
   "id": "7e1637e1",
   "metadata": {},
   "outputs": [],
   "source": [
    "Y = A @ A.T\n",
    "\n",
    "# this will fail\n",
    "np.linalg.inv(Y)"
   ]
  },
  {
   "cell_type": "code",
   "execution_count": null,
   "id": "c3f7de22",
   "metadata": {},
   "outputs": [],
   "source": [
    "# pseudo-inverse\n",
    "np.linalg.pinv(Y)"
   ]
  },
  {
   "cell_type": "code",
   "execution_count": null,
   "id": "cbb74448",
   "metadata": {},
   "outputs": [],
   "source": [
    "np.linalg.pinv(Y) @ Y"
   ]
  },
  {
   "cell_type": "code",
   "execution_count": null,
   "id": "5c389305",
   "metadata": {},
   "outputs": [],
   "source": [
    "# rank\n",
    "print(X.shape)\n",
    "print(np.linalg.matrix_rank(X))"
   ]
  },
  {
   "cell_type": "code",
   "execution_count": null,
   "id": "247b6cfe",
   "metadata": {},
   "outputs": [],
   "source": [
    "print(Y.shape)\n",
    "print(np.linalg.matrix_rank(Y))"
   ]
  },
  {
   "cell_type": "markdown",
   "id": "1bc061b4",
   "metadata": {},
   "source": [
    "### Eigenvalues and eigenvectors"
   ]
  },
  {
   "cell_type": "code",
   "execution_count": null,
   "id": "948c3048",
   "metadata": {},
   "outputs": [],
   "source": [
    "w, v = np.linalg.eig(X)"
   ]
  },
  {
   "cell_type": "code",
   "execution_count": null,
   "id": "51f1c24e",
   "metadata": {},
   "outputs": [],
   "source": [
    "print(w)"
   ]
  },
  {
   "cell_type": "code",
   "execution_count": null,
   "id": "d1cda9c3",
   "metadata": {},
   "outputs": [],
   "source": [
    "print(v)"
   ]
  },
  {
   "cell_type": "code",
   "execution_count": null,
   "id": "414853f3",
   "metadata": {},
   "outputs": [],
   "source": [
    "print(X @ v[:, 0])"
   ]
  },
  {
   "cell_type": "code",
   "execution_count": null,
   "id": "8f26335e",
   "metadata": {},
   "outputs": [],
   "source": [
    "w[0] * v[:, 0]"
   ]
  },
  {
   "cell_type": "markdown",
   "id": "0b58f0ba",
   "metadata": {},
   "source": [
    "### SVD"
   ]
  },
  {
   "cell_type": "code",
   "execution_count": null,
   "id": "86d2a58d",
   "metadata": {},
   "outputs": [],
   "source": [
    "# SVD\n",
    "A = np.array([\n",
    "    [1, 2],\n",
    "    [3, 4],\n",
    "    [5, 6],\n",
    "])\n",
    "\n",
    "U, Sigma, V = np.linalg.svd(A)\n",
    "V = V.T\n",
    "print(\"U:\\n\", U)\n",
    "print(\"Sigma:\\n\", Sigma)\n",
    "print(\"V:\\n\", V)"
   ]
  },
  {
   "cell_type": "code",
   "execution_count": null,
   "id": "e4a10b0d",
   "metadata": {},
   "outputs": [],
   "source": [
    "# recreate the original matrix\n",
    "# we need to turn the ``Sigma`` to a ndarray of the proper shape\n",
    "U @ np.insert(np.diag(Sigma), len(Sigma), [0, 0], 0) @ V.T"
   ]
  },
  {
   "cell_type": "code",
   "execution_count": null,
   "id": "51a545b8",
   "metadata": {},
   "outputs": [],
   "source": [
    "# Create the partial matrices"
   ]
  },
  {
   "cell_type": "code",
   "execution_count": null,
   "id": "74a4ed85",
   "metadata": {},
   "outputs": [],
   "source": [
    "US = U @ np.insert(np.diag(Sigma), len(Sigma), [0, 0], 0)\n",
    "US"
   ]
  },
  {
   "cell_type": "code",
   "execution_count": null,
   "id": "5b359400",
   "metadata": {},
   "outputs": [],
   "source": [
    "# partial matrix 1\n",
    "np.matrix(US[:, 0]).T @ np.matrix(V[:, 0])"
   ]
  },
  {
   "cell_type": "code",
   "execution_count": null,
   "id": "6ca0440d",
   "metadata": {},
   "outputs": [],
   "source": [
    "# partial matrix 2\n",
    "np.matrix(US[:, 1]).T @ np.matrix(V[:, 1])"
   ]
  },
  {
   "cell_type": "code",
   "execution_count": null,
   "id": "12b8858b",
   "metadata": {},
   "outputs": [],
   "source": [
    "# Image compression\n",
    "FIGURE_SIZE = (10, 10)\n",
    "plt.gray()\n",
    "\n",
    "original = Image.open(urlopen(\"https://github.com/changyaochen/MECE4520/raw/master/lectures/lecture_1/leena.png\"))\n",
    "plt.figure(figsize=FIGURE_SIZE)\n",
    "plt.imshow(original, interpolation=\"none\")"
   ]
  },
  {
   "cell_type": "code",
   "execution_count": null,
   "id": "51961607",
   "metadata": {},
   "outputs": [],
   "source": [
    "original_data = np.array(original)\n",
    "print(original_data.shape)\n",
    "original_data"
   ]
  },
  {
   "cell_type": "code",
   "execution_count": null,
   "id": "0882ab9f",
   "metadata": {},
   "outputs": [],
   "source": [
    "U, Sigma, V = np.linalg.svd(original_data)\n",
    "V = V.T"
   ]
  },
  {
   "cell_type": "code",
   "execution_count": null,
   "id": "fc641ab9",
   "metadata": {},
   "outputs": [],
   "source": [
    "k = 20  # Number of principle components to keep\n",
    "\n",
    "U_reduced = U[:, 0:k]\n",
    "V_reduced = V[:, 0:k]\n",
    "Sigma_reduced = np.diag(Sigma[:k])"
   ]
  },
  {
   "cell_type": "code",
   "execution_count": null,
   "id": "e4b35ce4",
   "metadata": {},
   "outputs": [],
   "source": [
    "compressed = U_reduced @ Sigma_reduced @ V_reduced.T\n",
    "\n",
    "plt.figure(figsize=FIGURE_SIZE)\n",
    "plt.imshow(compressed, interpolation=\"none\")"
   ]
  }
 ],
 "metadata": {
  "kernelspec": {
   "display_name": "Python 3 (ipykernel)",
   "language": "python",
   "name": "python3"
  },
  "language_info": {
   "codemirror_mode": {
    "name": "ipython",
    "version": 3
   },
   "file_extension": ".py",
   "mimetype": "text/x-python",
   "name": "python",
   "nbconvert_exporter": "python",
   "pygments_lexer": "ipython3",
   "version": "3.7.11"
  }
 },
 "nbformat": 4,
 "nbformat_minor": 5
}
