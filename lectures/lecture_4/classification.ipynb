{
 "cells": [
  {
   "cell_type": "code",
   "execution_count": 1,
   "id": "fb6c2412",
   "metadata": {},
   "outputs": [],
   "source": [
    "import numpy as np\n",
    "import pandas as pd"
   ]
  },
  {
   "cell_type": "markdown",
   "id": "824ce7ef",
   "metadata": {},
   "source": [
    "## Binary classification example\n",
    "\n",
    "Tatanic survivor dataset."
   ]
  },
  {
   "cell_type": "code",
   "execution_count": null,
   "id": "bb1549e4",
   "metadata": {},
   "outputs": [],
   "source": [
    "titanic_data = pd.read_csv(\"\")"
   ]
  }
 ],
 "metadata": {
  "kernelspec": {
   "display_name": "Python 3 (ipykernel)",
   "language": "python",
   "name": "python3"
  },
  "language_info": {
   "codemirror_mode": {
    "name": "ipython",
    "version": 3
   },
   "file_extension": ".py",
   "mimetype": "text/x-python",
   "name": "python",
   "nbconvert_exporter": "python",
   "pygments_lexer": "ipython3",
   "version": "3.7.11"
  }
 },
 "nbformat": 4,
 "nbformat_minor": 5
}
